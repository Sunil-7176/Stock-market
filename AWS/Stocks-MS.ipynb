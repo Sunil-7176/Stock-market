{
 "cells": [
  {
   "cell_type": "markdown",
   "id": "e0516e82",
   "metadata": {},
   "source": [
    "Create S3 bucket"
   ]
  },
  {
   "cell_type": "code",
   "execution_count": 1,
   "id": "07679041",
   "metadata": {},
   "outputs": [],
   "source": [
    "import boto3\n",
    "s3 = boto3.resource('s3')"
   ]
  },
  {
   "cell_type": "markdown",
   "id": "ae2eb3b7",
   "metadata": {},
   "source": [
    "**Boto3 is a AWS SDK **"
   ]
  },
  {
   "cell_type": "code",
   "execution_count": 4,
   "id": "cda62c7b",
   "metadata": {},
   "outputs": [],
   "source": [
    "region = 'eu-north-1'\n",
    "\n",
    "# Create an S3 client with the specified region\n",
    "s3 = boto3.client('s3', region_name=region)"
   ]
  },
  {
   "cell_type": "code",
   "execution_count": 7,
   "id": "aef10927",
   "metadata": {},
   "outputs": [
    {
     "name": "stdout",
     "output_type": "stream",
     "text": [
      "S3 bucket has been created\n"
     ]
    }
   ],
   "source": [
    "bucket_name = 'yahoofinancestockprice-1'\n",
    "try:\n",
    "    # Create the S3 bucket with the specified region\n",
    "    s3.create_bucket(Bucket=bucket_name, CreateBucketConfiguration={'LocationConstraint': region})\n",
    "    print('S3 bucket has been created')\n",
    "except Exception as e:\n",
    "    print('S3 error', e)\n",
    "    "
   ]
  },
  {
   "cell_type": "markdown",
   "id": "6407c8fb",
   "metadata": {},
   "source": [
    "Create train and validate CSV"
   ]
  },
  {
   "cell_type": "code",
   "execution_count": 8,
   "id": "ad477d4d",
   "metadata": {
    "scrolled": true
   },
   "outputs": [
    {
     "name": "stdout",
     "output_type": "stream",
     "text": [
      "Collecting yfinance\n",
      "  Downloading yfinance-0.2.33-py2.py3-none-any.whl.metadata (11 kB)\n",
      "Requirement already satisfied: pandas>=1.3.0 in /home/ec2-user/anaconda3/envs/python3/lib/python3.10/site-packages (from yfinance) (2.1.1)\n",
      "Requirement already satisfied: numpy>=1.16.5 in /home/ec2-user/anaconda3/envs/python3/lib/python3.10/site-packages (from yfinance) (1.22.4)\n",
      "Requirement already satisfied: requests>=2.31 in /home/ec2-user/anaconda3/envs/python3/lib/python3.10/site-packages (from yfinance) (2.31.0)\n",
      "Collecting multitasking>=0.0.7 (from yfinance)\n",
      "  Downloading multitasking-0.0.11-py3-none-any.whl (8.5 kB)\n",
      "Collecting lxml>=4.9.1 (from yfinance)\n",
      "  Downloading lxml-5.0.0-cp310-cp310-manylinux_2_17_x86_64.manylinux2014_x86_64.manylinux_2_24_x86_64.whl.metadata (6.7 kB)\n",
      "Collecting appdirs>=1.4.4 (from yfinance)\n",
      "  Downloading appdirs-1.4.4-py2.py3-none-any.whl (9.6 kB)\n",
      "Requirement already satisfied: pytz>=2022.5 in /home/ec2-user/anaconda3/envs/python3/lib/python3.10/site-packages (from yfinance) (2023.3.post1)\n",
      "Collecting frozendict>=2.3.4 (from yfinance)\n",
      "  Downloading frozendict-2.4.0-cp310-cp310-manylinux_2_17_x86_64.manylinux2014_x86_64.whl.metadata (23 kB)\n",
      "Collecting peewee>=3.16.2 (from yfinance)\n",
      "  Downloading peewee-3.17.0.tar.gz (2.9 MB)\n",
      "\u001b[2K     \u001b[90m━━━━━━━━━━━━━━━━━━━━━━━━━━━━━━━━━━━━━━━━\u001b[0m \u001b[32m2.9/2.9 MB\u001b[0m \u001b[31m80.8 MB/s\u001b[0m eta \u001b[36m0:00:00\u001b[0m:00:01\u001b[0m\n",
      "\u001b[?25h  Installing build dependencies ... \u001b[?25ldone\n",
      "\u001b[?25h  Getting requirements to build wheel ... \u001b[?25ldone\n",
      "\u001b[?25h  Preparing metadata (pyproject.toml) ... \u001b[?25ldone\n",
      "\u001b[?25hRequirement already satisfied: beautifulsoup4>=4.11.1 in /home/ec2-user/anaconda3/envs/python3/lib/python3.10/site-packages (from yfinance) (4.12.2)\n",
      "Collecting html5lib>=1.1 (from yfinance)\n",
      "  Downloading html5lib-1.1-py2.py3-none-any.whl (112 kB)\n",
      "\u001b[2K     \u001b[90m━━━━━━━━━━━━━━━━━━━━━━━━━━━━━━━━━━━━━━━\u001b[0m \u001b[32m112.2/112.2 kB\u001b[0m \u001b[31m1.4 MB/s\u001b[0m eta \u001b[36m0:00:00\u001b[0ma \u001b[36m0:00:01\u001b[0m\n",
      "\u001b[?25hRequirement already satisfied: soupsieve>1.2 in /home/ec2-user/anaconda3/envs/python3/lib/python3.10/site-packages (from beautifulsoup4>=4.11.1->yfinance) (2.5)\n",
      "Requirement already satisfied: six>=1.9 in /home/ec2-user/anaconda3/envs/python3/lib/python3.10/site-packages (from html5lib>=1.1->yfinance) (1.16.0)\n",
      "Requirement already satisfied: webencodings in /home/ec2-user/anaconda3/envs/python3/lib/python3.10/site-packages (from html5lib>=1.1->yfinance) (0.5.1)\n",
      "Requirement already satisfied: python-dateutil>=2.8.2 in /home/ec2-user/anaconda3/envs/python3/lib/python3.10/site-packages (from pandas>=1.3.0->yfinance) (2.8.2)\n",
      "Requirement already satisfied: tzdata>=2022.1 in /home/ec2-user/anaconda3/envs/python3/lib/python3.10/site-packages (from pandas>=1.3.0->yfinance) (2023.3)\n",
      "Requirement already satisfied: charset-normalizer<4,>=2 in /home/ec2-user/anaconda3/envs/python3/lib/python3.10/site-packages (from requests>=2.31->yfinance) (3.3.1)\n",
      "Requirement already satisfied: idna<4,>=2.5 in /home/ec2-user/anaconda3/envs/python3/lib/python3.10/site-packages (from requests>=2.31->yfinance) (3.4)\n",
      "Requirement already satisfied: urllib3<3,>=1.21.1 in /home/ec2-user/anaconda3/envs/python3/lib/python3.10/site-packages (from requests>=2.31->yfinance) (1.26.18)\n",
      "Requirement already satisfied: certifi>=2017.4.17 in /home/ec2-user/anaconda3/envs/python3/lib/python3.10/site-packages (from requests>=2.31->yfinance) (2023.7.22)\n",
      "Downloading yfinance-0.2.33-py2.py3-none-any.whl (69 kB)\n",
      "\u001b[2K   \u001b[90m━━━━━━━━━━━━━━━━━━━━━━━━━━━━━━━━━━━━━━━━\u001b[0m \u001b[32m69.0/69.0 kB\u001b[0m \u001b[31m10.2 MB/s\u001b[0m eta \u001b[36m0:00:00\u001b[0m\n",
      "\u001b[?25hDownloading frozendict-2.4.0-cp310-cp310-manylinux_2_17_x86_64.manylinux2014_x86_64.whl (116 kB)\n",
      "\u001b[2K   \u001b[90m━━━━━━━━━━━━━━━━━━━━━━━━━━━━━━━━━━━━━━━━\u001b[0m \u001b[32m116.7/116.7 kB\u001b[0m \u001b[31m15.0 MB/s\u001b[0m eta \u001b[36m0:00:00\u001b[0m\n",
      "\u001b[?25hDownloading lxml-5.0.0-cp310-cp310-manylinux_2_17_x86_64.manylinux2014_x86_64.manylinux_2_24_x86_64.whl (7.1 MB)\n",
      "\u001b[2K   \u001b[90m━━━━━━━━━━━━━━━━━━━━━━━━━━━━━━━━━━━━━━━━\u001b[0m \u001b[32m7.1/7.1 MB\u001b[0m \u001b[31m93.0 MB/s\u001b[0m eta \u001b[36m0:00:00\u001b[0m:00:01\u001b[0m00:01\u001b[0m\n",
      "\u001b[?25hBuilding wheels for collected packages: peewee\n",
      "  Building wheel for peewee (pyproject.toml) ... \u001b[?25ldone\n",
      "\u001b[?25h  Created wheel for peewee: filename=peewee-3.17.0-cp310-cp310-linux_x86_64.whl size=275946 sha256=cce7b0ea0b468fa697a3c976af561b4e6df77079d8094065d5bceaa4b5267fc9\n",
      "  Stored in directory: /home/ec2-user/.cache/pip/wheels/c7/70/ad/212867e96e7004265a69c4aa5dcff00a95f547a67ba26e7e76\n",
      "Successfully built peewee\n",
      "Installing collected packages: peewee, multitasking, appdirs, lxml, html5lib, frozendict, yfinance\n",
      "Successfully installed appdirs-1.4.4 frozendict-2.4.0 html5lib-1.1 lxml-5.0.0 multitasking-0.0.11 peewee-3.17.0 yfinance-0.2.33\n"
     ]
    }
   ],
   "source": [
    "!pip install yfinance"
   ]
  },
  {
   "cell_type": "code",
   "execution_count": 10,
   "id": "fc3366d4",
   "metadata": {},
   "outputs": [
    {
     "name": "stdout",
     "output_type": "stream",
     "text": [
      "[*********************100%%**********************]  1 of 1 completed\n"
     ]
    },
    {
     "data": {
      "text/html": [
       "<div>\n",
       "<style scoped>\n",
       "    .dataframe tbody tr th:only-of-type {\n",
       "        vertical-align: middle;\n",
       "    }\n",
       "\n",
       "    .dataframe tbody tr th {\n",
       "        vertical-align: top;\n",
       "    }\n",
       "\n",
       "    .dataframe thead th {\n",
       "        text-align: right;\n",
       "    }\n",
       "</style>\n",
       "<table border=\"1\" class=\"dataframe\">\n",
       "  <thead>\n",
       "    <tr style=\"text-align: right;\">\n",
       "      <th></th>\n",
       "      <th>Date</th>\n",
       "      <th>Open</th>\n",
       "      <th>High</th>\n",
       "      <th>Low</th>\n",
       "      <th>Close</th>\n",
       "      <th>Adj Close</th>\n",
       "      <th>Volume</th>\n",
       "    </tr>\n",
       "  </thead>\n",
       "  <tbody>\n",
       "    <tr>\n",
       "      <th>0</th>\n",
       "      <td>2019-01-02</td>\n",
       "      <td>19.910000</td>\n",
       "      <td>19.969999</td>\n",
       "      <td>19.760000</td>\n",
       "      <td>19.910000</td>\n",
       "      <td>14.000065</td>\n",
       "      <td>59800</td>\n",
       "    </tr>\n",
       "    <tr>\n",
       "      <th>1</th>\n",
       "      <td>2019-01-03</td>\n",
       "      <td>19.780001</td>\n",
       "      <td>19.780001</td>\n",
       "      <td>19.520000</td>\n",
       "      <td>19.600000</td>\n",
       "      <td>13.782083</td>\n",
       "      <td>40800</td>\n",
       "    </tr>\n",
       "    <tr>\n",
       "      <th>2</th>\n",
       "      <td>2019-01-04</td>\n",
       "      <td>19.830000</td>\n",
       "      <td>20.580000</td>\n",
       "      <td>19.809999</td>\n",
       "      <td>20.500000</td>\n",
       "      <td>14.414933</td>\n",
       "      <td>19700</td>\n",
       "    </tr>\n",
       "    <tr>\n",
       "      <th>3</th>\n",
       "      <td>2019-01-07</td>\n",
       "      <td>20.190001</td>\n",
       "      <td>20.190001</td>\n",
       "      <td>19.959999</td>\n",
       "      <td>20.150000</td>\n",
       "      <td>14.168824</td>\n",
       "      <td>97500</td>\n",
       "    </tr>\n",
       "    <tr>\n",
       "      <th>4</th>\n",
       "      <td>2019-01-08</td>\n",
       "      <td>19.990000</td>\n",
       "      <td>20.320000</td>\n",
       "      <td>19.990000</td>\n",
       "      <td>20.309999</td>\n",
       "      <td>14.281331</td>\n",
       "      <td>25800</td>\n",
       "    </tr>\n",
       "    <tr>\n",
       "      <th>...</th>\n",
       "      <td>...</td>\n",
       "      <td>...</td>\n",
       "      <td>...</td>\n",
       "      <td>...</td>\n",
       "      <td>...</td>\n",
       "      <td>...</td>\n",
       "      <td>...</td>\n",
       "    </tr>\n",
       "    <tr>\n",
       "      <th>1253</th>\n",
       "      <td>2023-12-22</td>\n",
       "      <td>21.389999</td>\n",
       "      <td>21.520000</td>\n",
       "      <td>21.230000</td>\n",
       "      <td>21.360001</td>\n",
       "      <td>21.360001</td>\n",
       "      <td>61200</td>\n",
       "    </tr>\n",
       "    <tr>\n",
       "      <th>1254</th>\n",
       "      <td>2023-12-26</td>\n",
       "      <td>21.570000</td>\n",
       "      <td>21.570000</td>\n",
       "      <td>21.350000</td>\n",
       "      <td>21.379999</td>\n",
       "      <td>21.379999</td>\n",
       "      <td>37500</td>\n",
       "    </tr>\n",
       "    <tr>\n",
       "      <th>1255</th>\n",
       "      <td>2023-12-27</td>\n",
       "      <td>21.420000</td>\n",
       "      <td>21.520000</td>\n",
       "      <td>21.420000</td>\n",
       "      <td>21.469999</td>\n",
       "      <td>21.469999</td>\n",
       "      <td>32500</td>\n",
       "    </tr>\n",
       "    <tr>\n",
       "      <th>1256</th>\n",
       "      <td>2023-12-28</td>\n",
       "      <td>21.629999</td>\n",
       "      <td>21.780001</td>\n",
       "      <td>21.500000</td>\n",
       "      <td>21.549999</td>\n",
       "      <td>21.549999</td>\n",
       "      <td>47500</td>\n",
       "    </tr>\n",
       "    <tr>\n",
       "      <th>1257</th>\n",
       "      <td>2023-12-29</td>\n",
       "      <td>21.559999</td>\n",
       "      <td>21.580000</td>\n",
       "      <td>21.469999</td>\n",
       "      <td>21.469999</td>\n",
       "      <td>21.469999</td>\n",
       "      <td>26000</td>\n",
       "    </tr>\n",
       "  </tbody>\n",
       "</table>\n",
       "<p>1258 rows × 7 columns</p>\n",
       "</div>"
      ],
      "text/plain": [
       "           Date       Open       High        Low      Close  Adj Close  Volume\n",
       "0    2019-01-02  19.910000  19.969999  19.760000  19.910000  14.000065   59800\n",
       "1    2019-01-03  19.780001  19.780001  19.520000  19.600000  13.782083   40800\n",
       "2    2019-01-04  19.830000  20.580000  19.809999  20.500000  14.414933   19700\n",
       "3    2019-01-07  20.190001  20.190001  19.959999  20.150000  14.168824   97500\n",
       "4    2019-01-08  19.990000  20.320000  19.990000  20.309999  14.281331   25800\n",
       "...         ...        ...        ...        ...        ...        ...     ...\n",
       "1253 2023-12-22  21.389999  21.520000  21.230000  21.360001  21.360001   61200\n",
       "1254 2023-12-26  21.570000  21.570000  21.350000  21.379999  21.379999   37500\n",
       "1255 2023-12-27  21.420000  21.520000  21.420000  21.469999  21.469999   32500\n",
       "1256 2023-12-28  21.629999  21.780001  21.500000  21.549999  21.549999   47500\n",
       "1257 2023-12-29  21.559999  21.580000  21.469999  21.469999  21.469999   26000\n",
       "\n",
       "[1258 rows x 7 columns]"
      ]
     },
     "execution_count": 10,
     "metadata": {},
     "output_type": "execute_result"
    }
   ],
   "source": [
    "import pandas as pd\n",
    "from datetime import datetime\n",
    "import yfinance as yf\n",
    "\n",
    "#Initialize the start and end date\n",
    "start_date = datetime(2019,1,1)\n",
    "end_date = datetime(2024,1,1)\n",
    "\n",
    "#get the data\n",
    "df_data = yf.download('IIF', start = start_date, end= end_date)\n",
    "\n",
    "df_data.reset_index(inplace=True)\n",
    "\n",
    "df_data"
   ]
  },
  {
   "cell_type": "markdown",
   "id": "d8d3097a",
   "metadata": {},
   "source": [
    "Etract , Load and Transform the data"
   ]
  },
  {
   "cell_type": "code",
   "execution_count": 11,
   "id": "39aec54f",
   "metadata": {},
   "outputs": [],
   "source": [
    "#Dropping the columns\n",
    "df_data.drop(axis=1, columns=['Adj Close'], inplace=True)\n",
    "df_data.drop(axis=1, columns=['Date'], inplace = True)"
   ]
  },
  {
   "cell_type": "code",
   "execution_count": 13,
   "id": "cdb0c465",
   "metadata": {},
   "outputs": [
    {
     "data": {
      "text/html": [
       "<div>\n",
       "<style scoped>\n",
       "    .dataframe tbody tr th:only-of-type {\n",
       "        vertical-align: middle;\n",
       "    }\n",
       "\n",
       "    .dataframe tbody tr th {\n",
       "        vertical-align: top;\n",
       "    }\n",
       "\n",
       "    .dataframe thead th {\n",
       "        text-align: right;\n",
       "    }\n",
       "</style>\n",
       "<table border=\"1\" class=\"dataframe\">\n",
       "  <thead>\n",
       "    <tr style=\"text-align: right;\">\n",
       "      <th></th>\n",
       "      <th>Open</th>\n",
       "      <th>High</th>\n",
       "      <th>Low</th>\n",
       "      <th>Close</th>\n",
       "      <th>Volume</th>\n",
       "    </tr>\n",
       "  </thead>\n",
       "  <tbody>\n",
       "    <tr>\n",
       "      <th>0</th>\n",
       "      <td>19.910000</td>\n",
       "      <td>19.969999</td>\n",
       "      <td>19.760000</td>\n",
       "      <td>19.910000</td>\n",
       "      <td>59800</td>\n",
       "    </tr>\n",
       "    <tr>\n",
       "      <th>1</th>\n",
       "      <td>19.780001</td>\n",
       "      <td>19.780001</td>\n",
       "      <td>19.520000</td>\n",
       "      <td>19.600000</td>\n",
       "      <td>40800</td>\n",
       "    </tr>\n",
       "    <tr>\n",
       "      <th>2</th>\n",
       "      <td>19.830000</td>\n",
       "      <td>20.580000</td>\n",
       "      <td>19.809999</td>\n",
       "      <td>20.500000</td>\n",
       "      <td>19700</td>\n",
       "    </tr>\n",
       "    <tr>\n",
       "      <th>3</th>\n",
       "      <td>20.190001</td>\n",
       "      <td>20.190001</td>\n",
       "      <td>19.959999</td>\n",
       "      <td>20.150000</td>\n",
       "      <td>97500</td>\n",
       "    </tr>\n",
       "    <tr>\n",
       "      <th>4</th>\n",
       "      <td>19.990000</td>\n",
       "      <td>20.320000</td>\n",
       "      <td>19.990000</td>\n",
       "      <td>20.309999</td>\n",
       "      <td>25800</td>\n",
       "    </tr>\n",
       "    <tr>\n",
       "      <th>...</th>\n",
       "      <td>...</td>\n",
       "      <td>...</td>\n",
       "      <td>...</td>\n",
       "      <td>...</td>\n",
       "      <td>...</td>\n",
       "    </tr>\n",
       "    <tr>\n",
       "      <th>1252</th>\n",
       "      <td>21.080000</td>\n",
       "      <td>21.290001</td>\n",
       "      <td>21.080000</td>\n",
       "      <td>21.230000</td>\n",
       "      <td>47900</td>\n",
       "    </tr>\n",
       "    <tr>\n",
       "      <th>1253</th>\n",
       "      <td>21.389999</td>\n",
       "      <td>21.520000</td>\n",
       "      <td>21.230000</td>\n",
       "      <td>21.360001</td>\n",
       "      <td>61200</td>\n",
       "    </tr>\n",
       "    <tr>\n",
       "      <th>1254</th>\n",
       "      <td>21.570000</td>\n",
       "      <td>21.570000</td>\n",
       "      <td>21.350000</td>\n",
       "      <td>21.379999</td>\n",
       "      <td>37500</td>\n",
       "    </tr>\n",
       "    <tr>\n",
       "      <th>1255</th>\n",
       "      <td>21.420000</td>\n",
       "      <td>21.520000</td>\n",
       "      <td>21.420000</td>\n",
       "      <td>21.469999</td>\n",
       "      <td>32500</td>\n",
       "    </tr>\n",
       "    <tr>\n",
       "      <th>1256</th>\n",
       "      <td>21.629999</td>\n",
       "      <td>21.780001</td>\n",
       "      <td>21.500000</td>\n",
       "      <td>21.549999</td>\n",
       "      <td>47500</td>\n",
       "    </tr>\n",
       "  </tbody>\n",
       "</table>\n",
       "<p>1257 rows × 5 columns</p>\n",
       "</div>"
      ],
      "text/plain": [
       "           Open       High        Low      Close  Volume\n",
       "0     19.910000  19.969999  19.760000  19.910000   59800\n",
       "1     19.780001  19.780001  19.520000  19.600000   40800\n",
       "2     19.830000  20.580000  19.809999  20.500000   19700\n",
       "3     20.190001  20.190001  19.959999  20.150000   97500\n",
       "4     19.990000  20.320000  19.990000  20.309999   25800\n",
       "...         ...        ...        ...        ...     ...\n",
       "1252  21.080000  21.290001  21.080000  21.230000   47900\n",
       "1253  21.389999  21.520000  21.230000  21.360001   61200\n",
       "1254  21.570000  21.570000  21.350000  21.379999   37500\n",
       "1255  21.420000  21.520000  21.420000  21.469999   32500\n",
       "1256  21.629999  21.780001  21.500000  21.549999   47500\n",
       "\n",
       "[1257 rows x 5 columns]"
      ]
     },
     "execution_count": 13,
     "metadata": {},
     "output_type": "execute_result"
    }
   ],
   "source": [
    "#Extract the features\n",
    "df_data_features = df_data.iloc[: -1 , :]\n",
    "df_data_features"
   ]
  },
  {
   "cell_type": "code",
   "execution_count": 14,
   "id": "89484b3c",
   "metadata": {},
   "outputs": [
    {
     "data": {
      "text/plain": [
       "1       19.780001\n",
       "2       19.830000\n",
       "3       20.190001\n",
       "4       19.990000\n",
       "5       20.240000\n",
       "          ...    \n",
       "1253    21.389999\n",
       "1254    21.570000\n",
       "1255    21.420000\n",
       "1256    21.629999\n",
       "1257    21.559999\n",
       "Name: Target, Length: 1257, dtype: float64"
      ]
     },
     "execution_count": 14,
     "metadata": {},
     "output_type": "execute_result"
    }
   ],
   "source": [
    "#Extract only the open price from the 2nd day(i.e the next day) for the prediction\n",
    "df_data_target = df_data.iloc[1:,0].rename('Target')\n",
    "df_data_target"
   ]
  },
  {
   "cell_type": "code",
   "execution_count": 15,
   "id": "1b41ff6a",
   "metadata": {},
   "outputs": [
    {
     "name": "stderr",
     "output_type": "stream",
     "text": [
      "/tmp/ipykernel_8574/1034691346.py:2: SettingWithCopyWarning: \n",
      "A value is trying to be set on a copy of a slice from a DataFrame.\n",
      "Try using .loc[row_indexer,col_indexer] = value instead\n",
      "\n",
      "See the caveats in the documentation: https://pandas.pydata.org/pandas-docs/stable/user_guide/indexing.html#returning-a-view-versus-a-copy\n",
      "  df_data_features['Target'] = list(df_data_target)\n"
     ]
    },
    {
     "data": {
      "text/html": [
       "<div>\n",
       "<style scoped>\n",
       "    .dataframe tbody tr th:only-of-type {\n",
       "        vertical-align: middle;\n",
       "    }\n",
       "\n",
       "    .dataframe tbody tr th {\n",
       "        vertical-align: top;\n",
       "    }\n",
       "\n",
       "    .dataframe thead th {\n",
       "        text-align: right;\n",
       "    }\n",
       "</style>\n",
       "<table border=\"1\" class=\"dataframe\">\n",
       "  <thead>\n",
       "    <tr style=\"text-align: right;\">\n",
       "      <th></th>\n",
       "      <th>Target</th>\n",
       "      <th>Open</th>\n",
       "      <th>High</th>\n",
       "      <th>Low</th>\n",
       "      <th>Close</th>\n",
       "      <th>Volume</th>\n",
       "    </tr>\n",
       "  </thead>\n",
       "  <tbody>\n",
       "    <tr>\n",
       "      <th>0</th>\n",
       "      <td>19.780001</td>\n",
       "      <td>19.910000</td>\n",
       "      <td>19.969999</td>\n",
       "      <td>19.760000</td>\n",
       "      <td>19.910000</td>\n",
       "      <td>59800</td>\n",
       "    </tr>\n",
       "    <tr>\n",
       "      <th>1</th>\n",
       "      <td>19.830000</td>\n",
       "      <td>19.780001</td>\n",
       "      <td>19.780001</td>\n",
       "      <td>19.520000</td>\n",
       "      <td>19.600000</td>\n",
       "      <td>40800</td>\n",
       "    </tr>\n",
       "    <tr>\n",
       "      <th>2</th>\n",
       "      <td>20.190001</td>\n",
       "      <td>19.830000</td>\n",
       "      <td>20.580000</td>\n",
       "      <td>19.809999</td>\n",
       "      <td>20.500000</td>\n",
       "      <td>19700</td>\n",
       "    </tr>\n",
       "    <tr>\n",
       "      <th>3</th>\n",
       "      <td>19.990000</td>\n",
       "      <td>20.190001</td>\n",
       "      <td>20.190001</td>\n",
       "      <td>19.959999</td>\n",
       "      <td>20.150000</td>\n",
       "      <td>97500</td>\n",
       "    </tr>\n",
       "    <tr>\n",
       "      <th>4</th>\n",
       "      <td>20.240000</td>\n",
       "      <td>19.990000</td>\n",
       "      <td>20.320000</td>\n",
       "      <td>19.990000</td>\n",
       "      <td>20.309999</td>\n",
       "      <td>25800</td>\n",
       "    </tr>\n",
       "    <tr>\n",
       "      <th>...</th>\n",
       "      <td>...</td>\n",
       "      <td>...</td>\n",
       "      <td>...</td>\n",
       "      <td>...</td>\n",
       "      <td>...</td>\n",
       "      <td>...</td>\n",
       "    </tr>\n",
       "    <tr>\n",
       "      <th>1252</th>\n",
       "      <td>21.389999</td>\n",
       "      <td>21.080000</td>\n",
       "      <td>21.290001</td>\n",
       "      <td>21.080000</td>\n",
       "      <td>21.230000</td>\n",
       "      <td>47900</td>\n",
       "    </tr>\n",
       "    <tr>\n",
       "      <th>1253</th>\n",
       "      <td>21.570000</td>\n",
       "      <td>21.389999</td>\n",
       "      <td>21.520000</td>\n",
       "      <td>21.230000</td>\n",
       "      <td>21.360001</td>\n",
       "      <td>61200</td>\n",
       "    </tr>\n",
       "    <tr>\n",
       "      <th>1254</th>\n",
       "      <td>21.420000</td>\n",
       "      <td>21.570000</td>\n",
       "      <td>21.570000</td>\n",
       "      <td>21.350000</td>\n",
       "      <td>21.379999</td>\n",
       "      <td>37500</td>\n",
       "    </tr>\n",
       "    <tr>\n",
       "      <th>1255</th>\n",
       "      <td>21.629999</td>\n",
       "      <td>21.420000</td>\n",
       "      <td>21.520000</td>\n",
       "      <td>21.420000</td>\n",
       "      <td>21.469999</td>\n",
       "      <td>32500</td>\n",
       "    </tr>\n",
       "    <tr>\n",
       "      <th>1256</th>\n",
       "      <td>21.559999</td>\n",
       "      <td>21.629999</td>\n",
       "      <td>21.780001</td>\n",
       "      <td>21.500000</td>\n",
       "      <td>21.549999</td>\n",
       "      <td>47500</td>\n",
       "    </tr>\n",
       "  </tbody>\n",
       "</table>\n",
       "<p>1257 rows × 6 columns</p>\n",
       "</div>"
      ],
      "text/plain": [
       "         Target       Open       High        Low      Close  Volume\n",
       "0     19.780001  19.910000  19.969999  19.760000  19.910000   59800\n",
       "1     19.830000  19.780001  19.780001  19.520000  19.600000   40800\n",
       "2     20.190001  19.830000  20.580000  19.809999  20.500000   19700\n",
       "3     19.990000  20.190001  20.190001  19.959999  20.150000   97500\n",
       "4     20.240000  19.990000  20.320000  19.990000  20.309999   25800\n",
       "...         ...        ...        ...        ...        ...     ...\n",
       "1252  21.389999  21.080000  21.290001  21.080000  21.230000   47900\n",
       "1253  21.570000  21.389999  21.520000  21.230000  21.360001   61200\n",
       "1254  21.420000  21.570000  21.570000  21.350000  21.379999   37500\n",
       "1255  21.629999  21.420000  21.520000  21.420000  21.469999   32500\n",
       "1256  21.559999  21.629999  21.780001  21.500000  21.549999   47500\n",
       "\n",
       "[1257 rows x 6 columns]"
      ]
     },
     "execution_count": 15,
     "metadata": {},
     "output_type": "execute_result"
    }
   ],
   "source": [
    "#Final data\n",
    "df_data_features['Target'] = list(df_data_target)\n",
    "\n",
    "first_col = df_data_features.pop('Target')\n",
    "df_data_features.insert(0,'Target', first_col)\n",
    "\n",
    "df_data_final = df_data_features\n",
    "\n",
    "df_data_final\n"
   ]
  },
  {
   "cell_type": "markdown",
   "id": "806ce5d1",
   "metadata": {},
   "source": [
    "**Train Test SPlit **"
   ]
  },
  {
   "cell_type": "code",
   "execution_count": 16,
   "id": "fee96f6d",
   "metadata": {},
   "outputs": [
    {
     "data": {
      "text/html": [
       "<div>\n",
       "<style scoped>\n",
       "    .dataframe tbody tr th:only-of-type {\n",
       "        vertical-align: middle;\n",
       "    }\n",
       "\n",
       "    .dataframe tbody tr th {\n",
       "        vertical-align: top;\n",
       "    }\n",
       "\n",
       "    .dataframe thead th {\n",
       "        text-align: right;\n",
       "    }\n",
       "</style>\n",
       "<table border=\"1\" class=\"dataframe\">\n",
       "  <thead>\n",
       "    <tr style=\"text-align: right;\">\n",
       "      <th></th>\n",
       "      <th>Target</th>\n",
       "      <th>Open</th>\n",
       "      <th>High</th>\n",
       "      <th>Low</th>\n",
       "      <th>Close</th>\n",
       "      <th>Volume</th>\n",
       "    </tr>\n",
       "  </thead>\n",
       "  <tbody>\n",
       "    <tr>\n",
       "      <th>870</th>\n",
       "      <td>21.920000</td>\n",
       "      <td>22.320000</td>\n",
       "      <td>22.510000</td>\n",
       "      <td>22.200001</td>\n",
       "      <td>22.379999</td>\n",
       "      <td>18400</td>\n",
       "    </tr>\n",
       "    <tr>\n",
       "      <th>367</th>\n",
       "      <td>15.480000</td>\n",
       "      <td>15.120000</td>\n",
       "      <td>15.450000</td>\n",
       "      <td>15.110000</td>\n",
       "      <td>15.410000</td>\n",
       "      <td>90500</td>\n",
       "    </tr>\n",
       "    <tr>\n",
       "      <th>875</th>\n",
       "      <td>22.010000</td>\n",
       "      <td>21.770000</td>\n",
       "      <td>21.990000</td>\n",
       "      <td>21.670000</td>\n",
       "      <td>21.900000</td>\n",
       "      <td>13200</td>\n",
       "    </tr>\n",
       "    <tr>\n",
       "      <th>525</th>\n",
       "      <td>22.850000</td>\n",
       "      <td>22.570000</td>\n",
       "      <td>22.760000</td>\n",
       "      <td>22.510000</td>\n",
       "      <td>22.750000</td>\n",
       "      <td>14900</td>\n",
       "    </tr>\n",
       "    <tr>\n",
       "      <th>1256</th>\n",
       "      <td>21.559999</td>\n",
       "      <td>21.629999</td>\n",
       "      <td>21.780001</td>\n",
       "      <td>21.500000</td>\n",
       "      <td>21.549999</td>\n",
       "      <td>47500</td>\n",
       "    </tr>\n",
       "    <tr>\n",
       "      <th>...</th>\n",
       "      <td>...</td>\n",
       "      <td>...</td>\n",
       "      <td>...</td>\n",
       "      <td>...</td>\n",
       "      <td>...</td>\n",
       "      <td>...</td>\n",
       "    </tr>\n",
       "    <tr>\n",
       "      <th>1238</th>\n",
       "      <td>23.120001</td>\n",
       "      <td>22.660000</td>\n",
       "      <td>22.969999</td>\n",
       "      <td>22.660000</td>\n",
       "      <td>22.950001</td>\n",
       "      <td>43100</td>\n",
       "    </tr>\n",
       "    <tr>\n",
       "      <th>1147</th>\n",
       "      <td>22.450001</td>\n",
       "      <td>22.360001</td>\n",
       "      <td>22.450001</td>\n",
       "      <td>22.350000</td>\n",
       "      <td>22.400000</td>\n",
       "      <td>39500</td>\n",
       "    </tr>\n",
       "    <tr>\n",
       "      <th>106</th>\n",
       "      <td>21.230000</td>\n",
       "      <td>21.570000</td>\n",
       "      <td>21.570000</td>\n",
       "      <td>20.980000</td>\n",
       "      <td>21.290001</td>\n",
       "      <td>48900</td>\n",
       "    </tr>\n",
       "    <tr>\n",
       "      <th>1041</th>\n",
       "      <td>20.040001</td>\n",
       "      <td>20.190001</td>\n",
       "      <td>20.190001</td>\n",
       "      <td>20.090000</td>\n",
       "      <td>20.090000</td>\n",
       "      <td>18800</td>\n",
       "    </tr>\n",
       "    <tr>\n",
       "      <th>1122</th>\n",
       "      <td>21.170000</td>\n",
       "      <td>21.219999</td>\n",
       "      <td>21.420000</td>\n",
       "      <td>21.219999</td>\n",
       "      <td>21.240000</td>\n",
       "      <td>41500</td>\n",
       "    </tr>\n",
       "  </tbody>\n",
       "</table>\n",
       "<p>1257 rows × 6 columns</p>\n",
       "</div>"
      ],
      "text/plain": [
       "         Target       Open       High        Low      Close  Volume\n",
       "870   21.920000  22.320000  22.510000  22.200001  22.379999   18400\n",
       "367   15.480000  15.120000  15.450000  15.110000  15.410000   90500\n",
       "875   22.010000  21.770000  21.990000  21.670000  21.900000   13200\n",
       "525   22.850000  22.570000  22.760000  22.510000  22.750000   14900\n",
       "1256  21.559999  21.629999  21.780001  21.500000  21.549999   47500\n",
       "...         ...        ...        ...        ...        ...     ...\n",
       "1238  23.120001  22.660000  22.969999  22.660000  22.950001   43100\n",
       "1147  22.450001  22.360001  22.450001  22.350000  22.400000   39500\n",
       "106   21.230000  21.570000  21.570000  20.980000  21.290001   48900\n",
       "1041  20.040001  20.190001  20.190001  20.090000  20.090000   18800\n",
       "1122  21.170000  21.219999  21.420000  21.219999  21.240000   41500\n",
       "\n",
       "[1257 rows x 6 columns]"
      ]
     },
     "execution_count": 16,
     "metadata": {},
     "output_type": "execute_result"
    }
   ],
   "source": [
    "import numpy as np\n",
    "\n",
    "df_randomized = df_data_final.sample(frac=1, random_state=123)\n",
    "\n",
    "df_randomized"
   ]
  },
  {
   "cell_type": "code",
   "execution_count": 17,
   "id": "450e09f3",
   "metadata": {},
   "outputs": [
    {
     "name": "stdout",
     "output_type": "stream",
     "text": [
      "(1005, 6) (252, 6)\n"
     ]
    },
    {
     "name": "stderr",
     "output_type": "stream",
     "text": [
      "/home/ec2-user/anaconda3/envs/python3/lib/python3.10/site-packages/numpy/core/fromnumeric.py:57: FutureWarning: 'DataFrame.swapaxes' is deprecated and will be removed in a future version. Please use 'DataFrame.transpose' instead.\n",
      "  return bound(*args, **kwds)\n"
     ]
    }
   ],
   "source": [
    "train_data, test_data = np.split(df_randomized, [int(0.8*len(df_randomized))])\n",
    "print(train_data.shape, test_data.shape)"
   ]
  },
  {
   "cell_type": "markdown",
   "id": "05dd26d1",
   "metadata": {},
   "source": [
    "Set a path upload data to S3 bucket"
   ]
  },
  {
   "cell_type": "code",
   "execution_count": 18,
   "id": "5f12f60c",
   "metadata": {},
   "outputs": [
    {
     "name": "stdout",
     "output_type": "stream",
     "text": [
      "s3://yahoofinancestockprice-1/xgboost-as-a-built-in-algo/train/train.csv\n",
      "s3://yahoofinancestockprice-1/xgboost-as-a-built-in-algo/test/test.csv\n"
     ]
    }
   ],
   "source": [
    "import os\n",
    "\n",
    "prefix = 'xgboost-as-a-built-in-algo'\n",
    "\n",
    "train_csv_path = 's3://{}/{}/{}/{}'.format(bucket_name, prefix,'train','train.csv')\n",
    "test_csv_path = 's3://{}/{}/{}/{}'.format(bucket_name, prefix,'test','test.csv')\n",
    "\n",
    "print(train_csv_path)\n",
    "print(test_csv_path)"
   ]
  },
  {
   "cell_type": "code",
   "execution_count": 19,
   "id": "fa839584",
   "metadata": {},
   "outputs": [
    {
     "name": "stderr",
     "output_type": "stream",
     "text": [
      "/home/ec2-user/anaconda3/envs/python3/lib/python3.10/site-packages/fsspec/registry.py:272: UserWarning: Your installed version of s3fs is very old and known to cause\n",
      "severe performance issues, see also https://github.com/dask/dask/issues/10276\n",
      "\n",
      "To fix, you should specify a lower version bound on s3fs, or\n",
      "update the current installation.\n",
      "\n",
      "  warnings.warn(s3_msg)\n"
     ]
    }
   ],
   "source": [
    "train_data.to_csv(train_csv_path, index= False, header= False)\n",
    "test_data.to_csv(test_csv_path, index= False, header= False)"
   ]
  },
  {
   "cell_type": "markdown",
   "id": "fd2b0cb6",
   "metadata": {},
   "source": [
    "**BUILD XGBOOST MODEL**"
   ]
  },
  {
   "cell_type": "code",
   "execution_count": 20,
   "id": "1cdf40bf",
   "metadata": {},
   "outputs": [
    {
     "name": "stdout",
     "output_type": "stream",
     "text": [
      "sagemaker.config INFO - Not applying SDK defaults from location: /etc/xdg/sagemaker/config.yaml\n",
      "sagemaker.config INFO - Not applying SDK defaults from location: /home/ec2-user/.config/sagemaker/config.yaml\n"
     ]
    }
   ],
   "source": [
    "#XGBOOST as a built in algo\n",
    "import sagemaker\n",
    "from sagemaker import image_uris\n",
    "from sagemaker.session import Session\n",
    "from sagemaker.inputs import TrainingInput\n",
    "\n"
   ]
  },
  {
   "cell_type": "markdown",
   "id": "eb10f152",
   "metadata": {},
   "source": [
    "Find Xgboost image URI adn build an Xgboost cotainer"
   ]
  },
  {
   "cell_type": "code",
   "execution_count": 25,
   "id": "75854a60",
   "metadata": {},
   "outputs": [
    {
     "data": {
      "text/plain": [
       "'662702820516.dkr.ecr.eu-north-1.amazonaws.com/sagemaker-xgboost:1.5-1'"
      ]
     },
     "metadata": {},
     "output_type": "display_data"
    }
   ],
   "source": [
    "xgboost_container = image_uris.retrieve(\"xgboost\", region,\"1.5-1\")\n",
    "\n",
    "display(xgboost_container)"
   ]
  },
  {
   "cell_type": "markdown",
   "id": "80bcbba2",
   "metadata": {},
   "source": [
    "**INitialize Hyperparameters**"
   ]
  },
  {
   "cell_type": "code",
   "execution_count": 28,
   "id": "258bbe88",
   "metadata": {},
   "outputs": [],
   "source": [
    "hyperparameters = {\n",
    "        \"max_depth\":\"5\",\n",
    "        \"eta\":\"0.2\",\n",
    "        \"gamma\":\"4\",\n",
    "        \"min_child_weight\":\"6\",\n",
    "        \"subsample\":\"0.7\",\n",
    "        \"verbosity\":\"1\",\n",
    "        \"objective\":\"reg:squarederror\",\n",
    "        \"early_stopping_rounds\" : 10,\n",
    "        \"num_round\":50}"
   ]
  },
  {
   "cell_type": "markdown",
   "id": "daaba0a5",
   "metadata": {},
   "source": [
    "Output path to save the trained model"
   ]
  },
  {
   "cell_type": "code",
   "execution_count": 30,
   "id": "d1e7a7c1",
   "metadata": {},
   "outputs": [
    {
     "name": "stdout",
     "output_type": "stream",
     "text": [
      "s3://yahoofinancestockprice-1/xgboost-as-a-built-in-algo/output/\n"
     ]
    }
   ],
   "source": [
    "output_path = 's3://{}/{}/{}/'.format(bucket_name, prefix,'output')\n",
    "\n",
    "print(output_path)"
   ]
  },
  {
   "cell_type": "markdown",
   "id": "2745124c",
   "metadata": {},
   "source": [
    "Build a sagemaker estimator that calls Xgboost container"
   ]
  },
  {
   "cell_type": "code",
   "execution_count": 31,
   "id": "70ba3a2d",
   "metadata": {},
   "outputs": [
    {
     "name": "stdout",
     "output_type": "stream",
     "text": [
      "sagemaker.config INFO - Not applying SDK defaults from location: /etc/xdg/sagemaker/config.yaml\n",
      "sagemaker.config INFO - Not applying SDK defaults from location: /home/ec2-user/.config/sagemaker/config.yaml\n",
      "sagemaker.config INFO - Not applying SDK defaults from location: /etc/xdg/sagemaker/config.yaml\n",
      "sagemaker.config INFO - Not applying SDK defaults from location: /home/ec2-user/.config/sagemaker/config.yaml\n"
     ]
    }
   ],
   "source": [
    "estimator = sagemaker.estimator.Estimator(image_uri=xgboost_container, \n",
    "                                          hyperparameters=hyperparameters,\n",
    "                                          role=sagemaker.get_execution_role(),\n",
    "                                          instance_count=1, \n",
    "                                          instance_type='ml.m5.2xlarge', \n",
    "                                          volume_size=5, # 5 GB \n",
    "                                          output_path=output_path,\n",
    "                                          use_spot_instances = True, #wait until the next instance to some\n",
    "                                          max_run = 300,\n",
    "                                          max_wait = 600\n",
    "                                         )"
   ]
  },
  {
   "cell_type": "markdown",
   "id": "9be74748",
   "metadata": {},
   "source": [
    "Defining data typea and paths for the training and validation dataset which was saved earlier"
   ]
  },
  {
   "cell_type": "code",
   "execution_count": 32,
   "id": "5b81dc84",
   "metadata": {},
   "outputs": [],
   "source": [
    "content_type ='csv'\n",
    "\n",
    "train_input = TrainingInput(\"s3://{}/{}/{}/\".format(bucket_name, prefix, 'train'), content_type=content_type)\n",
    "test_input = TrainingInput(\"s3://{}/{}/{}/\".format(bucket_name, prefix, 'test'), content_type=content_type)"
   ]
  },
  {
   "cell_type": "markdown",
   "id": "a49a4c3a",
   "metadata": {},
   "source": [
    "Execution of Xgboost algo"
   ]
  },
  {
   "cell_type": "code",
   "execution_count": 34,
   "id": "297c2349",
   "metadata": {},
   "outputs": [
    {
     "name": "stderr",
     "output_type": "stream",
     "text": [
      "INFO:sagemaker:Creating training-job with name: sagemaker-xgboost-2024-01-04-19-24-47-568\n"
     ]
    },
    {
     "name": "stdout",
     "output_type": "stream",
     "text": [
      "2024-01-04 19:24:47 Starting - Starting the training job...\n",
      "2024-01-04 19:25:02 Starting - Preparing the instances for training.........\n",
      "2024-01-04 19:26:21 Downloading - Downloading input data...\n",
      "2024-01-04 19:27:06 Training - Training image download completed. Training in progress...\u001b[34m/miniconda3/lib/python3.8/site-packages/xgboost/compat.py:36: FutureWarning: pandas.Int64Index is deprecated and will be removed from pandas in a future version. Use pandas.Index with the appropriate dtype instead.\n",
      "  from pandas import MultiIndex, Int64Index\u001b[0m\n",
      "\u001b[34m[2024-01-04 19:27:28.159 ip-10-0-245-0.eu-north-1.compute.internal:7 INFO utils.py:28] RULE_JOB_STOP_SIGNAL_FILENAME: None\u001b[0m\n",
      "\u001b[34m[2024-01-04 19:27:28.180 ip-10-0-245-0.eu-north-1.compute.internal:7 INFO profiler_config_parser.py:111] User has disabled profiler.\u001b[0m\n",
      "\u001b[34m[2024-01-04:19:27:28:INFO] Imported framework sagemaker_xgboost_container.training\u001b[0m\n",
      "\u001b[34m[2024-01-04:19:27:28:INFO] Failed to parse hyperparameter objective value reg:squarederror to Json.\u001b[0m\n",
      "\u001b[34mReturning the value itself\u001b[0m\n",
      "\u001b[34m[2024-01-04:19:27:28:INFO] No GPUs detected (normal if no gpus installed)\u001b[0m\n",
      "\u001b[34m[2024-01-04:19:27:28:INFO] Running XGBoost Sagemaker in algorithm mode\u001b[0m\n",
      "\u001b[34m[2024-01-04:19:27:28:INFO] Determined 0 GPU(s) available on the instance.\u001b[0m\n",
      "\u001b[34m[2024-01-04:19:27:28:INFO] Determined delimiter of CSV input is ','\u001b[0m\n",
      "\u001b[34m[2024-01-04:19:27:28:INFO] Determined delimiter of CSV input is ','\u001b[0m\n",
      "\u001b[34m[2024-01-04:19:27:28:INFO] files path: /opt/ml/input/data/train\u001b[0m\n",
      "\u001b[34m[2024-01-04:19:27:28:INFO] Determined delimiter of CSV input is ','\u001b[0m\n",
      "\u001b[34m[2024-01-04:19:27:28:INFO] files path: /opt/ml/input/data/validation\u001b[0m\n",
      "\u001b[34m[2024-01-04:19:27:28:INFO] Determined delimiter of CSV input is ','\u001b[0m\n",
      "\u001b[34m[2024-01-04:19:27:28:INFO] Single node training.\u001b[0m\n",
      "\u001b[34m[2024-01-04:19:27:28:INFO] Train matrix has 1005 rows and 5 columns\u001b[0m\n",
      "\u001b[34m[2024-01-04:19:27:28:INFO] Validation matrix has 252 rows\u001b[0m\n",
      "\u001b[34m[2024-01-04 19:27:28.562 ip-10-0-245-0.eu-north-1.compute.internal:7 INFO json_config.py:92] Creating hook from json_config at /opt/ml/input/config/debughookconfig.json.\u001b[0m\n",
      "\u001b[34m[2024-01-04 19:27:28.563 ip-10-0-245-0.eu-north-1.compute.internal:7 INFO hook.py:206] tensorboard_dir has not been set for the hook. SMDebug will not be exporting tensorboard summaries.\u001b[0m\n",
      "\u001b[34m[2024-01-04 19:27:28.564 ip-10-0-245-0.eu-north-1.compute.internal:7 INFO hook.py:259] Saving to /opt/ml/output/tensors\u001b[0m\n",
      "\u001b[34m[2024-01-04 19:27:28.564 ip-10-0-245-0.eu-north-1.compute.internal:7 INFO state_store.py:77] The checkpoint config file /opt/ml/input/config/checkpointconfig.json does not exist.\u001b[0m\n",
      "\u001b[34m[2024-01-04:19:27:28:INFO] Debug hook created from config\u001b[0m\n",
      "\u001b[34m[2024-01-04 19:27:28.579 ip-10-0-245-0.eu-north-1.compute.internal:7 INFO hook.py:427] Monitoring the collections: metrics\u001b[0m\n",
      "\u001b[34m[2024-01-04 19:27:28.582 ip-10-0-245-0.eu-north-1.compute.internal:7 INFO hook.py:491] Hook is writing from the hook with pid: 7\u001b[0m\n",
      "\u001b[34m[0]#011train-rmse:17.07535#011validation-rmse:16.91446\u001b[0m\n",
      "\u001b[34m[1]#011train-rmse:13.69300#011validation-rmse:13.56620\u001b[0m\n",
      "\u001b[34m[2]#011train-rmse:10.97522#011validation-rmse:10.85885\u001b[0m\n",
      "\u001b[34m[3]#011train-rmse:8.79980#011validation-rmse:8.69970\u001b[0m\n",
      "\u001b[34m[4]#011train-rmse:7.05672#011validation-rmse:6.97936\u001b[0m\n",
      "\u001b[34m[5]#011train-rmse:5.66078#011validation-rmse:5.59705\u001b[0m\n",
      "\u001b[34m[6]#011train-rmse:4.54020#011validation-rmse:4.48828\u001b[0m\n",
      "\u001b[34m[7]#011train-rmse:3.64397#011validation-rmse:3.60182\u001b[0m\n",
      "\u001b[34m[8]#011train-rmse:2.92590#011validation-rmse:2.89110\u001b[0m\n",
      "\u001b[34m[9]#011train-rmse:2.35254#011validation-rmse:2.32456\u001b[0m\n",
      "\u001b[34m[10]#011train-rmse:1.89105#011validation-rmse:1.86864\u001b[0m\n",
      "\u001b[34m[11]#011train-rmse:1.52754#011validation-rmse:1.51276\u001b[0m\n",
      "\u001b[34m[12]#011train-rmse:1.23202#011validation-rmse:1.22250\u001b[0m\n",
      "\u001b[34m[13]#011train-rmse:1.00156#011validation-rmse:0.99385\u001b[0m\n",
      "\u001b[34m[14]#011train-rmse:0.81727#011validation-rmse:0.81215\u001b[0m\n",
      "\u001b[34m[15]#011train-rmse:0.67565#011validation-rmse:0.67045\u001b[0m\n",
      "\u001b[34m[16]#011train-rmse:0.56389#011validation-rmse:0.55758\u001b[0m\n",
      "\u001b[34m[17]#011train-rmse:0.48040#011validation-rmse:0.47434\u001b[0m\n",
      "\u001b[34m[18]#011train-rmse:0.41642#011validation-rmse:0.40788\u001b[0m\n",
      "\u001b[34m[19]#011train-rmse:0.36872#011validation-rmse:0.36064\u001b[0m\n",
      "\u001b[34m[20]#011train-rmse:0.33086#011validation-rmse:0.32451\u001b[0m\n",
      "\u001b[34m[21]#011train-rmse:0.30761#011validation-rmse:0.30041\u001b[0m\n",
      "\u001b[34m[22]#011train-rmse:0.29173#011validation-rmse:0.28382\u001b[0m\n",
      "\u001b[34m[23]#011train-rmse:0.28143#011validation-rmse:0.27296\u001b[0m\n",
      "\u001b[34m[24]#011train-rmse:0.27490#011validation-rmse:0.26603\u001b[0m\n",
      "\u001b[34m[25]#011train-rmse:0.27065#011validation-rmse:0.26147\u001b[0m\n",
      "\u001b[34m[26]#011train-rmse:0.26759#011validation-rmse:0.25816\u001b[0m\n",
      "\u001b[34m[27]#011train-rmse:0.26602#011validation-rmse:0.25644\u001b[0m\n",
      "\u001b[34m[28]#011train-rmse:0.26490#011validation-rmse:0.25520\u001b[0m\n",
      "\u001b[34m[29]#011train-rmse:0.26400#011validation-rmse:0.25419\u001b[0m\n",
      "\u001b[34m[30]#011train-rmse:0.26343#011validation-rmse:0.25353\u001b[0m\n",
      "\u001b[34m[31]#011train-rmse:0.26312#011validation-rmse:0.25317\u001b[0m\n",
      "\u001b[34m[32]#011train-rmse:0.26294#011validation-rmse:0.25295\u001b[0m\n",
      "\u001b[34m[33]#011train-rmse:0.26280#011validation-rmse:0.25279\u001b[0m\n",
      "\u001b[34m[34]#011train-rmse:0.26259#011validation-rmse:0.25251\u001b[0m\n",
      "\u001b[34m[35]#011train-rmse:0.26255#011validation-rmse:0.25246\u001b[0m\n",
      "\u001b[34m[36]#011train-rmse:0.26255#011validation-rmse:0.25246\u001b[0m\n",
      "\u001b[34m[37]#011train-rmse:0.26253#011validation-rmse:0.25244\u001b[0m\n",
      "\u001b[34m[38]#011train-rmse:0.26252#011validation-rmse:0.25242\u001b[0m\n",
      "\u001b[34m[39]#011train-rmse:0.26250#011validation-rmse:0.25238\u001b[0m\n",
      "\u001b[34m[40]#011train-rmse:0.25964#011validation-rmse:0.25252\u001b[0m\n",
      "\u001b[34m[41]#011train-rmse:0.25962#011validation-rmse:0.25250\u001b[0m\n",
      "\u001b[34m[42]#011train-rmse:0.25964#011validation-rmse:0.25252\u001b[0m\n",
      "\u001b[34m[43]#011train-rmse:0.25620#011validation-rmse:0.24706\u001b[0m\n",
      "\u001b[34m[44]#011train-rmse:0.25618#011validation-rmse:0.24702\u001b[0m\n",
      "\u001b[34m[45]#011train-rmse:0.25618#011validation-rmse:0.24703\u001b[0m\n",
      "\u001b[34m[46]#011train-rmse:0.25618#011validation-rmse:0.24704\u001b[0m\n",
      "\u001b[34m[47]#011train-rmse:0.25618#011validation-rmse:0.24701\u001b[0m\n",
      "\u001b[34m[48]#011train-rmse:0.25618#011validation-rmse:0.24701\u001b[0m\n",
      "\u001b[34m[49]#011train-rmse:0.25618#011validation-rmse:0.24702\u001b[0m\n",
      "\n",
      "2024-01-04 19:27:43 Uploading - Uploading generated training model\n",
      "2024-01-04 19:27:43 Completed - Training job completed\n",
      "Training seconds: 82\n",
      "Billable seconds: 30\n",
      "Managed Spot Training savings: 63.4%\n"
     ]
    }
   ],
   "source": [
    "# execute the XGBoost training job\n",
    "estimator.fit({'train': train_input, 'validation': test_input})"
   ]
  },
  {
   "cell_type": "markdown",
   "id": "33fefca1",
   "metadata": {},
   "source": [
    "**Deploy the trained xgb model as Endpoint"
   ]
  },
  {
   "cell_type": "code",
   "execution_count": 35,
   "id": "60d1f155",
   "metadata": {},
   "outputs": [
    {
     "name": "stderr",
     "output_type": "stream",
     "text": [
      "INFO:sagemaker:Creating model with name: sagemaker-xgboost-2024-01-05-06-40-57-245\n",
      "INFO:sagemaker:Creating endpoint-config with name sagemaker-xgboost-2024-01-05-06-40-57-245\n",
      "INFO:sagemaker:Creating endpoint with name sagemaker-xgboost-2024-01-05-06-40-57-245\n"
     ]
    },
    {
     "name": "stdout",
     "output_type": "stream",
     "text": [
      "----!"
     ]
    }
   ],
   "source": [
    "from sagemaker.serializers import CSVSerializer\n",
    "\n",
    "xgb_predictor = estimator.deploy(initial_instance_count=1, instance_type = 'ml.m5.2xlarge', serializer = CSVSerializer()) #iic=1, the number of instance deployed ,,, serializer - serialize input data of various formats to a cSV format coz xgboots accepts only tat"
   ]
  },
  {
   "cell_type": "code",
   "execution_count": 36,
   "id": "73ded018",
   "metadata": {},
   "outputs": [
    {
     "data": {
      "text/plain": [
       "'sagemaker-xgboost-2024-01-05-06-40-57-245'"
      ]
     },
     "execution_count": 36,
     "metadata": {},
     "output_type": "execute_result"
    }
   ],
   "source": [
    "xgb_predictor.endpoint_name"
   ]
  },
  {
   "cell_type": "markdown",
   "id": "9b52138a",
   "metadata": {},
   "source": [
    "**Make predictions with the use of Endpoints"
   ]
  },
  {
   "cell_type": "code",
   "execution_count": 37,
   "id": "14eea874",
   "metadata": {},
   "outputs": [
    {
     "name": "stdout",
     "output_type": "stream",
     "text": [
      "[*********************100%%**********************]  1 of 1 completed\n"
     ]
    },
    {
     "data": {
      "text/html": [
       "<div>\n",
       "<style scoped>\n",
       "    .dataframe tbody tr th:only-of-type {\n",
       "        vertical-align: middle;\n",
       "    }\n",
       "\n",
       "    .dataframe tbody tr th {\n",
       "        vertical-align: top;\n",
       "    }\n",
       "\n",
       "    .dataframe thead th {\n",
       "        text-align: right;\n",
       "    }\n",
       "</style>\n",
       "<table border=\"1\" class=\"dataframe\">\n",
       "  <thead>\n",
       "    <tr style=\"text-align: right;\">\n",
       "      <th></th>\n",
       "      <th>Date</th>\n",
       "      <th>Open</th>\n",
       "      <th>High</th>\n",
       "      <th>Low</th>\n",
       "      <th>Close</th>\n",
       "      <th>Adj Close</th>\n",
       "      <th>Volume</th>\n",
       "    </tr>\n",
       "  </thead>\n",
       "  <tbody>\n",
       "    <tr>\n",
       "      <th>0</th>\n",
       "      <td>2024-01-02</td>\n",
       "      <td>21.459999</td>\n",
       "      <td>21.59</td>\n",
       "      <td>21.379999</td>\n",
       "      <td>21.4</td>\n",
       "      <td>21.4</td>\n",
       "      <td>68200</td>\n",
       "    </tr>\n",
       "  </tbody>\n",
       "</table>\n",
       "</div>"
      ],
      "text/plain": [
       "        Date       Open   High        Low  Close  Adj Close  Volume\n",
       "0 2024-01-02  21.459999  21.59  21.379999   21.4       21.4   68200"
      ]
     },
     "execution_count": 37,
     "metadata": {},
     "output_type": "execute_result"
    }
   ],
   "source": [
    "start_date = datetime(2024,1,2)\n",
    "end_date = datetime(2024,1,3)\n",
    "\n",
    "#get the data\n",
    "df_data = yf.download('IIF', start = start_date, end= end_date)\n",
    "\n",
    "df_data.reset_index(inplace=True)\n",
    "\n",
    "df_data"
   ]
  },
  {
   "cell_type": "code",
   "execution_count": 38,
   "id": "329a63e0",
   "metadata": {},
   "outputs": [
    {
     "data": {
      "text/plain": [
       "array([[2.14599991e+01, 2.15900002e+01, 2.13799992e+01, 2.13999996e+01,\n",
       "        6.82000000e+04]])"
      ]
     },
     "execution_count": 38,
     "metadata": {},
     "output_type": "execute_result"
    }
   ],
   "source": [
    "df_data.drop(axis=1, columns=['Adj Close'], inplace=True)\n",
    "df_data.drop(axis=1, columns=['Date'], inplace = True)\n",
    "\n",
    "data_features_array = df_data.values\n",
    "data_features_array "
   ]
  },
  {
   "cell_type": "markdown",
   "id": "d8329de0",
   "metadata": {},
   "source": [
    "**Serialize Data**"
   ]
  },
  {
   "cell_type": "code",
   "execution_count": 39,
   "id": "06a91575",
   "metadata": {},
   "outputs": [
    {
     "data": {
      "text/plain": [
       "'21.51511573791504\\n'"
      ]
     },
     "execution_count": 39,
     "metadata": {},
     "output_type": "execute_result"
    }
   ],
   "source": [
    "#serialize input by sagemaker function\n",
    "y_pred_fn = xgb_predictor.predict(data_features_array).decode('utf-8') #utf-8 to convert bytes to string\n",
    "y_pred_fn"
   ]
  },
  {
   "cell_type": "code",
   "execution_count": null,
   "id": "599fa94b",
   "metadata": {},
   "outputs": [],
   "source": [
    "#OR the same above code can also be written as\n",
    "# from sagemaker.serialzer import CSVSErializer\n",
    "\n",
    "###Serialized_ip_fn = CSVSerializer().serailize([[2.14599991e+01, 2.15900002e+01, 2.13799992e+01, 2.13999996e+01,\n",
    "#        6.82000000e+04]])\n",
    "# print(Serialized_ip_fn)\n",
    "\n",
    "#y_pred_fn = xgb_predictor.predict(Serialized_ip_fn).decode('utf-8') #utf-8 to convert bytes to string\n",
    "#y_pred_fn\n",
    "#it would give the same output of 21.5..."
   ]
  },
  {
   "cell_type": "code",
   "execution_count": 41,
   "id": "771bc5cc",
   "metadata": {},
   "outputs": [
    {
     "name": "stdout",
     "output_type": "stream",
     "text": [
      "21.4599991,21.5900002,21.3799992,21.3999996,68200.0 <class 'str'>\n"
     ]
    },
    {
     "data": {
      "text/plain": [
       "'21.51511573791504\\n'"
      ]
     },
     "execution_count": 41,
     "metadata": {},
     "output_type": "execute_result"
    }
   ],
   "source": [
    "#serialize input by built in fn(Lambda fn)\n",
    "\n",
    "Input = [[2.14599991e+01, 2.15900002e+01, 2.13799992e+01, 2.13999996e+01,\n",
    "        6.82000000e+04],\n",
    "        [2.14599991e+01, 2.15900002e+01, 2.13799992e+01, 2.13999996e+01,\n",
    "        6.82000000e+04],\n",
    "        [2.14599991e+01, 2.15900002e+01, 2.13799992e+01, 2.13999996e+01,\n",
    "        6.82000000e+04]]\n",
    "\n",
    "serialized_input = ','.join(map(str, Input[0])) #take the first element from the list as str and join them with the ,\n",
    "\n",
    "print(serialized_input, type(serialized_input))\n",
    "\n",
    "y_pred_fn = xgb_predictor.predict(serialized_input).decode('utf-8') #utf-8 to convert bytes to string\n",
    "y_pred_fn"
   ]
  },
  {
   "cell_type": "markdown",
   "id": "1cfa9b70",
   "metadata": {},
   "source": [
    "**Lambda function to invoke the endpoint\n",
    "1. trigger Endpoint\n",
    "2. Trigger SNS\n",
    "With lambda you can run code virtually any type of application or backend service"
   ]
  },
  {
   "cell_type": "markdown",
   "id": "04f586d9",
   "metadata": {},
   "source": [
    "**Lambda function handler"
   ]
  },
  {
   "cell_type": "code",
   "execution_count": 46,
   "id": "084d9eb4",
   "metadata": {},
   "outputs": [
    {
     "data": {
      "text/plain": [
       "['21.51511573791504\\n', '21.51511573791504\\n', '21.51511573791504\\n']"
      ]
     },
     "execution_count": 46,
     "metadata": {},
     "output_type": "execute_result"
    }
   ],
   "source": [
    "import boto3\n",
    "\n",
    "ENDPOINT_NAME = 'sagemaker-xgboost-2024-01-05-06-40-57-245' #We got this in the previous cells\n",
    "runtime = boto3.client('runtime.sagemaker')\n",
    "\n",
    "def lambda_handler(event, context):\n",
    "    \n",
    "    inputs = event['data']\n",
    "    result = []\n",
    "    \n",
    "    for input in inputs:\n",
    "        serialized_input = ','.join(map(str, input)) #take the first element from the list as str and join them with the ,\n",
    "    \n",
    "        response = runtime.invoke_endpoint(EndpointName= ENDPOINT_NAME,\n",
    "                                      ContentType = 'text/csv',\n",
    "                                      Body= serialized_input)\n",
    "    \n",
    "        result.append(response['Body'].read().decode())\n",
    "    \n",
    "    return result\n",
    "\n",
    "Input_json = {'data':\n",
    "             [[2.14599991e+01, 2.15900002e+01, 2.13799992e+01, 2.13999996e+01,\n",
    "        6.82000000e+04],\n",
    "        [2.14599991e+01, 2.15900002e+01, 2.13799992e+01, 2.13999996e+01,\n",
    "        6.82000000e+04],\n",
    "        [2.14599991e+01, 2.15900002e+01, 2.13799992e+01, 2.13999996e+01,\n",
    "        6.82000000e+04]]\n",
    "             }\n",
    "\n",
    "result = lambda_handler(Input_json, _)\n",
    "result"
   ]
  },
  {
   "cell_type": "markdown",
   "id": "e6f4fccb",
   "metadata": {},
   "source": [
    "**Post Request"
   ]
  },
  {
   "cell_type": "code",
   "execution_count": 47,
   "id": "932df323",
   "metadata": {},
   "outputs": [],
   "source": [
    "import requests\n",
    "\n",
    "API_ENDPOINT = \"https://qr94phmnc3.execute-api.us-west-2.amazonaws.com/Xgboostmodel\"\n",
    "\n",
    "json = {\"data\":[[2.14599991e+01, 2.15900002e+01, 2.13799992e+01, 2.13999996e+01,\n",
    "        6.82000000e+04],\n",
    "        [2.14599991e+01, 2.15900002e+01, 2.13799992e+01, 2.13999996e+01,\n",
    "        6.82000000e+04],\n",
    "        [2.14599991e+01, 2.15900002e+01, 2.13799992e+01, 2.13999996e+01,\n",
    "        6.82000000e+04]]\n",
    "       }\n",
    "\n",
    "r = requests.post(url = API_ENDPOINT,  json =json)"
   ]
  },
  {
   "cell_type": "code",
   "execution_count": 48,
   "id": "ad791687",
   "metadata": {},
   "outputs": [
    {
     "name": "stdout",
     "output_type": "stream",
     "text": [
      "Status Code :200, Response : ['21.51511573791504\\n', '21.51511573791504\\n', '21.51511573791504\\n'] \n"
     ]
    }
   ],
   "source": [
    "print(f\"Status Code :{r.status_code}, Response : {r.json()} \" )"
   ]
  },
  {
   "cell_type": "markdown",
   "id": "35b2b2d6",
   "metadata": {},
   "source": [
    "**Close and Terminate"
   ]
  },
  {
   "cell_type": "code",
   "execution_count": null,
   "id": "c238c689",
   "metadata": {},
   "outputs": [],
   "source": [
    "#sagemaker.Session().delete_endpoint(xgb_predictor.endpoint)"
   ]
  },
  {
   "cell_type": "code",
   "execution_count": null,
   "id": "56836dd0",
   "metadata": {},
   "outputs": [],
   "source": [
    "#bucket_to_delete = boto3.resource('s3').Bucket(bucket_name)\n",
    "#bucket_to_delete.objects.all().delete()"
   ]
  }
 ],
 "metadata": {
  "kernelspec": {
   "display_name": "conda_python3",
   "language": "python",
   "name": "conda_python3"
  },
  "language_info": {
   "codemirror_mode": {
    "name": "ipython",
    "version": 3
   },
   "file_extension": ".py",
   "mimetype": "text/x-python",
   "name": "python",
   "nbconvert_exporter": "python",
   "pygments_lexer": "ipython3",
   "version": "3.10.13"
  }
 },
 "nbformat": 4,
 "nbformat_minor": 5
}
